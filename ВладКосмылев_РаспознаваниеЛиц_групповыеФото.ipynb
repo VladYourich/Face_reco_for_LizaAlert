{
  "cells": [
    {
      "cell_type": "markdown",
      "metadata": {
        "id": "view-in-github",
        "colab_type": "text"
      },
      "source": [
        "<a href=\"https://colab.research.google.com/github/VladYourich/Face_reco_for_LizaAlert/blob/main/%D0%92%D0%BB%D0%B0%D0%B4%D0%9A%D0%BE%D1%81%D0%BC%D1%8B%D0%BB%D0%B5%D0%B2_%D0%A0%D0%B0%D1%81%D0%BF%D0%BE%D0%B7%D0%BD%D0%B0%D0%B2%D0%B0%D0%BD%D0%B8%D0%B5%D0%9B%D0%B8%D1%86_%D0%B3%D1%80%D1%83%D0%BF%D0%BF%D0%BE%D0%B2%D1%8B%D0%B5%D0%A4%D0%BE%D1%82%D0%BE.ipynb\" target=\"_parent\"><img src=\"https://colab.research.google.com/assets/colab-badge.svg\" alt=\"Open In Colab\"/></a>"
      ]
    },
    {
      "cell_type": "code",
      "execution_count": null,
      "metadata": {
        "colab": {
          "background_save": true
        },
        "id": "RQ3s8s-0NNzi"
      },
      "outputs": [],
      "source": [
        "!pip install face_recognition"
      ]
    },
    {
      "cell_type": "markdown",
      "metadata": {
        "id": "SozqaprjEeN4"
      },
      "source": [
        "# Настройки"
      ]
    },
    {
      "cell_type": "code",
      "execution_count": null,
      "metadata": {
        "id": "hEO7FycoAO0y"
      },
      "outputs": [],
      "source": [
        "dburl = 'https://drive.google.com/file/d/1gESdeTtOF_T70Ol7BKL1qLoQEiSEW11w/view?usp=sharing' # la.db\n",
        "!gdown --id '1gESdeTtOF_T70Ol7BKL1qLoQEiSEW11w'\n",
        "group_img_url = 'https://drive.google.com/file/d/1UVt8YXtz8J9Wf5UKBSWyYN-S-jaeE6p7/view?usp=sharing'\n",
        "!gdown --id '1UVt8YXtz8J9Wf5UKBSWyYN-S-jaeE6p7'\n",
        "one_img_url = 'https://drive.google.com/file/d/1Q5mnm6Ls2qiT6d_L1IPVbOojiEW8GGy7/view?usp=sharing'\n",
        "!gdown --id '1Q5mnm6Ls2qiT6d_L1IPVbOojiEW8GGy7'\n",
        "#https://drive.google.com/file/d/1Y4AH8ARsZbu1YPpNmbFXAGQq-T7uy_6_/view?usp=sharing\n",
        "\n",
        "one_img_url = 'https://drive.google.com/file/d/1Y4AH8ARsZbu1YPpNmbFXAGQq-T7uy_6_/view?usp=sharing'\n",
        "!gdown --id '1Y4AH8ARsZbu1YPpNmbFXAGQq-T7uy_6_'\n",
        "# https://drive.google.com/file/d/1NxyqVUS4dmzKxNyCfbmbMqUN_G39Xlns/view?usp=sharing\n",
        "!gdown --id '1NxyqVUS4dmzKxNyCfbmbMqUN_G39Xlns'\n",
        "# https://drive.google.com/file/d/1tW1fmquxpBt4xKlwjCdiC7s0K_MyVw5q/view?usp=sharing\n",
        "!gdown --id '1tW1fmquxpBt4xKlwjCdiC7s0K_MyVw5q'"
      ]
    },
    {
      "cell_type": "code",
      "execution_count": null,
      "metadata": {
        "id": "V0JSQr5KYPAW"
      },
      "outputs": [],
      "source": [
        "from sqlalchemy import create_engine, Column, Integer, String, BLOB, ForeignKey\n",
        "from sqlalchemy.orm import declarative_base, relationship, sessionmaker\n",
        "from sqlalchemy.types import TypeDecorator, PickleType\n",
        "# from enveronments import fill_callnames, СALLSIGN_ID, СALLSIGN_NAME\n",
        "import numpy as np\n",
        "import pickle\n",
        "import face_recognition\n",
        "import matplotlib.pyplot as plt"
      ]
    },
    {
      "cell_type": "code",
      "execution_count": null,
      "metadata": {
        "id": "T_-5R7Lzohr7"
      },
      "outputs": [],
      "source": [
        "Base = declarative_base()\n",
        "\n",
        "class PickleTypeDecorator(TypeDecorator):\n",
        "    impl = BLOB\n",
        "    cache_ok = True\n",
        "    def process_bind_param(self, value, dialect):\n",
        "        if value is not None:\n",
        "            return pickle.dumps(value)\n",
        "\n",
        "    def process_result_value(self, value, dialect):\n",
        "        if value is not None:\n",
        "            return pickle.loads(value)\n",
        "\n",
        "class Callsign(Base):\n",
        "    __tablename__ = 'callsign'\n",
        "\n",
        "    id = Column(Integer, primary_key=True)\n",
        "    callname = Column(String, unique=True, nullable=False)\n",
        "\n",
        "class Vector(Base):\n",
        "    __tablename__ = 'vectors'\n",
        "\n",
        "    id = Column(Integer, primary_key=True)\n",
        "    vector = Column(PickleTypeDecorator)\n",
        "    #vector = Column(BLOB, nullable=False)\n",
        "    #img = Column(BLOB, unique=True, nullable=True)\n",
        "    call_id = Column(Integer, ForeignKey('callsign.id'))\n",
        "    call = relationship('Callsign', back_populates='vectors')\n",
        "\n",
        "Callsign.vectors = relationship('Vector', order_by=Vector.call_id, back_populates='call')\n",
        "\n",
        "def sess():\n",
        "    # Создание сессии для работы с базой данных\n",
        "    Session = sessionmaker(bind=engine)\n",
        "    session = Session()\n",
        "    return session\n",
        "\n",
        "def add_vector(id, callvector): #, callname\n",
        "\n",
        "    ses = sess()\n",
        "\n",
        "    # Добавление записей в таблицы\n",
        "    #call = Callsign(callname=callname)\n",
        "    vector = Vector(call_id=id, vector=callvector) #, call=call\n",
        "\n",
        "    ses.add_all([vector]) #call,\n",
        "    ses.commit()\n",
        "\n",
        "def add_many_vectors(items):\n",
        "    ses = sess()\n",
        "    # Добавление записей списком. Пример содержимого items\n",
        "    # data_to_add = [\n",
        "    #     {'callname': 'ГБ', 'vector': [0.7, 0.8, 0.9]},\n",
        "    #     {'callname': 'Физрук', 'vector': [1.0, 1.1, 1.2]},\n",
        "    # ]\n",
        "\n",
        "    for data in items:\n",
        "        call_id = get_id_for_calname(data['callname'])\n",
        "        vector = Vector(vector=data['vector'], id=call_id)\n",
        "        ses.add_all([vector])\n",
        "\n",
        "    ses.commit()\n",
        "\n",
        "def add_items_to_callsign(items):\n",
        "    ses = sess()\n",
        "    # Добавление записей списком. Пример содержимого items\n",
        "    # data_to_add = [\n",
        "    #     {'id': 1,'callname': 'ГБ'},\n",
        "    #     {'id': 2,'callname': 'ВК74'},\n",
        "    # ]\n",
        "\n",
        "    for data in items:\n",
        "        call = Callsign(id=data['id'], callname=data['callname'])\n",
        "        ses.add_all([call])\n",
        "\n",
        "    ses.commit()\n",
        "\n",
        "def get_vectors(callid) -> list:\n",
        "    # Запрос к базе для получения списка значений vector с фильтром по callname\n",
        "    #global СALLSIGN_ID\n",
        "    ses = sess()\n",
        "\n",
        "    vectors_for_callname = (\n",
        "        ses.query(Vector.vector)\n",
        "        #.join(Vector.call)\n",
        "        .filter(Vector.call_id == callid)\n",
        "        .all()\n",
        "    )\n",
        "    list_vec = []\n",
        "    for i in vectors_for_callname:\n",
        "        qq = i[0][0]\n",
        "        list_vec.append(qq)\n",
        "    #print(f'Vectors for callname {СALLSIGN_ID[callid]}: {list_vec}')\n",
        "    return list_vec\n",
        "\n",
        "\n",
        "def get_id_for_calname(callname) -> int:\n",
        "    ses = sess()\n",
        "    # Запрос к базе для получения всех позывных call_id\n",
        "    result = (ses.query(Callsign.id).filter(Callsign.callname == callname).one())\n",
        "    return result.id\n",
        "\n",
        "# Создание базы данных\n",
        "engine = create_engine('sqlite:///la.db', echo=False)\n",
        "Base.metadata.create_all(bind=engine)"
      ]
    },
    {
      "cell_type": "code",
      "execution_count": null,
      "metadata": {
        "id": "LFYuQYoUo_3B"
      },
      "outputs": [],
      "source": [
        "def get_calnames_dict() -> dict:\n",
        "    ses = sess()\n",
        "    # Запрос к базе для получения всех позывных call_id\n",
        "    result = ses.query(Callsign.callname, Callsign.id).all()\n",
        "    names_id = {key:value for key, value in result}\n",
        "    id_names = {value:key for key, value in result}\n",
        "    return names_id, id_names\n",
        "\n",
        "CALL_NAME_ID, CALL_ID_NAME = get_calnames_dict()"
      ]
    },
    {
      "cell_type": "code",
      "execution_count": null,
      "metadata": {
        "id": "q3aS41H-jpBo"
      },
      "outputs": [],
      "source": [
        "def get_base_vectors() -> dict:\n",
        "    vec = {}\n",
        "    for name, id in CALL_NAME_ID.items():\n",
        "        #print(name, id)\n",
        "        vec[name] = get_vectors(id)\n",
        "    return vec\n",
        "\n",
        "VECTORS = get_base_vectors()  # словарь со Всеми векторами всех поисковиков"
      ]
    },
    {
      "cell_type": "markdown",
      "metadata": {
        "id": "MZJAHmutN4AQ"
      },
      "source": [
        "# ЭКСПЕРИМЕНТЫ"
      ]
    },
    {
      "cell_type": "code",
      "execution_count": null,
      "metadata": {
        "id": "jcGojFcVUkeO"
      },
      "outputs": [],
      "source": [
        "# Путь к групповой фотографии\n",
        "image_path = \"/content/dsc09573.jpg\""
      ]
    },
    {
      "cell_type": "markdown",
      "metadata": {
        "id": "Imgh7YW-hCzl"
      },
      "source": [
        "## № 1"
      ]
    },
    {
      "cell_type": "code",
      "execution_count": null,
      "metadata": {
        "id": "OvG_ADZEOEFu"
      },
      "outputs": [],
      "source": [
        "image = face_recognition.load_image_file(image_path)\n",
        "\n",
        "face_locations = face_recognition.face_locations(image)\n",
        "face_encodings = face_recognition.face_encodings(image, face_locations)\n",
        "\n",
        "height, width = image.shape[:2]\n",
        "plt.figure(figsize=(width/100, height/100))\n",
        "\n",
        "plt.imshow(image, extent=[0, width, height, 0])\n",
        "plt.axis('off')\n",
        "\n",
        "for (top, right, bottom, left), face_encoding in zip(face_locations, face_encodings):\n",
        "    # Отрисовка рамок вокруг найденных лиц\n",
        "    plt.plot([left, right, right, left, left], [top, top, bottom, bottom, top], color='red')\n",
        "\n",
        "    for name, known_encoding in VECTORS.items():\n",
        "        # Вариант с распознаванием по списку векторов\n",
        "        matches = face_recognition.compare_faces(known_encoding, face_encoding)\n",
        "\n",
        "        if True in matches:\n",
        "            #plt.text(left, top, name, fontsize=4, bbox=dict(facecolor='red', alpha=0.2))\n",
        "            plt.text(left, top + 10, str(name), color='blue', fontsize=16)\n",
        "\n",
        "plt.show()\n"
      ]
    },
    {
      "cell_type": "markdown",
      "metadata": {
        "id": "tEvbURzBhJWT"
      },
      "source": [
        "## № 2"
      ]
    },
    {
      "cell_type": "code",
      "execution_count": null,
      "metadata": {
        "id": "QGG_x4W1hRbg"
      },
      "outputs": [],
      "source": [
        "import face_recognition\n",
        "import matplotlib.pyplot as plt"
      ]
    },
    {
      "cell_type": "code",
      "execution_count": null,
      "metadata": {
        "id": "mWsdmgn9hRbh"
      },
      "outputs": [],
      "source": [
        "# Путь к групповой фотографии\n",
        "image_path = \"/content/photo_1674@10-06-2023_13-11-13.jpg\""
      ]
    },
    {
      "cell_type": "code",
      "execution_count": null,
      "metadata": {
        "id": "_YrPFxiEUdLY"
      },
      "outputs": [],
      "source": [
        "# Загрузка групповой фотографии\n",
        "image = face_recognition.load_image_file(image_path)\n",
        "\n",
        "# Поиск лиц на фотографии\n",
        "face_locations = face_recognition.face_locations(image)\n",
        "face_encodings = face_recognition.face_encodings(image, face_locations)\n",
        "\n",
        "# Визуализация найденных лиц\n",
        "height, width = image.shape[:2]\n",
        "plt.figure(figsize=(width/100, height/100))\n",
        "\n",
        "plt.imshow(image, extent=[0, width, height, 0])\n",
        "plt.axis('off')\n",
        "\n",
        "# Словарь для хранения соответствий порядкового номера и имени\n",
        "index_to_name = {}\n",
        "\n",
        "for i, (top, right, bottom, left) in enumerate(face_locations):\n",
        "    # Отрисовка рамок вокруг найденных лиц\n",
        "    plt.plot([left, right, right, left, left], [top, top, bottom, bottom, top], color='red')\n",
        "\n",
        "    # Поиск совпадений в базе векторов\n",
        "    found_match = False\n",
        "    for name, known_encoding in VECTORS.items():\n",
        "        matches = face_recognition.compare_faces(known_encoding, face_encodings[i])\n",
        "        if True in matches:\n",
        "            # Отображение имени человека\n",
        "            plt.text(left, top, str(i+1), fontsize=12, bbox=dict(facecolor='red', alpha=0.5))\n",
        "            index_to_name[i+1] = name\n",
        "            found_match = True\n",
        "            break\n",
        "\n",
        "    if not found_match:\n",
        "        plt.text(left, top, str(i+1), fontsize=12, bbox=dict(facecolor='green', alpha=0.1))\n",
        "        index_to_name[i+1] = \"Unknown\"\n",
        "\n",
        "plt.show()\n",
        "\n",
        "# Вывод словаря с соответствиями порядкового номера и имени\n",
        "print(\"Соответствия порядкового номера и имени:\")\n",
        "for key, value in index_to_name.items():\n",
        "    print(f\"{key}: {value}\")\n"
      ]
    },
    {
      "cell_type": "markdown",
      "metadata": {
        "id": "dmtEJNOfhXhF"
      },
      "source": [
        "## № 3"
      ]
    },
    {
      "cell_type": "code",
      "execution_count": null,
      "metadata": {
        "colab": {
          "background_save": true
        },
        "id": "ev_nfRNGhZlE"
      },
      "outputs": [],
      "source": [
        "image = face_recognition.load_image_file(image_path)\n",
        "# Поиск лиц на фотографии\n",
        "face_locations = face_recognition.face_locations(image)\n",
        "face_encodings = face_recognition.face_encodings(image, face_locations)\n",
        "# Визуализация найденных лиц\n",
        "height, width = image.shape[:2]\n",
        "plt.figure(figsize=(width/100, height/100))\n",
        "plt.imshow(image, extent=[0, width, height, 0])\n",
        "plt.axis('off')\n",
        "# Словарь для хранения соответствий порядкового номера и имени\n",
        "index_to_name = {}\n",
        "\n",
        "for i, (top, right, bottom, left) in enumerate(face_locations):\n",
        "    # Отрисовка рамок вокруг найденных лиц\n",
        "    plt.plot([left, right, right, left, left], [top, top, bottom, bottom, top], color='red')\n",
        "    # Поиск совпадений в базе векторов\n",
        "    found_match = False\n",
        "    for name, known_encodings_list in VECTORS.items():\n",
        "        matches_count = 0\n",
        "        for known_encoding in known_encodings_list:\n",
        "            match = face_recognition.compare_faces([known_encoding], face_encodings[i])[0]\n",
        "            if match:\n",
        "                matches_count += 1\n",
        "\n",
        "        if matches_count > 1:\n",
        "            # Отображение имени человека\n",
        "            plt.text(left, bottom, str(i+1), fontsize=15, bbox=dict(facecolor='red', alpha=0.3))\n",
        "            index_to_name[i+1] = (name, matches_count, len(known_encodings_list))\n",
        "            found_match = True\n",
        "            break\n",
        "\n",
        "    if not found_match:\n",
        "        plt.text(left, top, str(i+1), fontsize=5, bbox=dict(facecolor='blue', alpha=0.8))\n",
        "        #index_to_name[i+1] = (\"Unknown\", 0, 0)\n",
        "\n",
        "plt.show()\n",
        "\n",
        "# Вывод словаря с соответствиями порядкового номера и имени\n",
        "print(\"Соответствия порядкового номера и имени:\")\n",
        "for key, value in index_to_name.items():\n",
        "    name, match_count, total_count = value\n",
        "    print(f\"{key}: {name} - {match_count} из {total_count}\")\n"
      ]
    },
    {
      "cell_type": "code",
      "source": [
        "import plotly.graph_objects as go\n",
        "\n",
        "# Загрузка изображения\n",
        "image = face_recognition.load_image_file(image_path)\n",
        "\n",
        "# Поиск лиц на фотографии\n",
        "face_locations = face_recognition.face_locations(image)\n",
        "face_encodings = face_recognition.face_encodings(image, face_locations)\n",
        "\n",
        "# Создание фигуры для визуализации\n",
        "fig = go.Figure()\n",
        "\n",
        "# Добавление изображения на график\n",
        "fig.add_layout_image(\n",
        "    source=image,\n",
        "    x=0,\n",
        "    sizex=image.shape[1],\n",
        "    y=0,\n",
        "    sizey=image.shape[0],\n",
        "    xref=\"x\",\n",
        "    yref=\"y\",\n",
        "    opacity=1,\n",
        "    layer=\"below\"\n",
        ")\n",
        "\n",
        "# Создание списка для хранения соответствий порядкового номера и имени\n",
        "index_to_name = {}\n",
        "\n",
        "for i, (top, right, bottom, left) in enumerate(face_locations):\n",
        "    # Определение координат прямоугольника\n",
        "    x_coordinates = [left, right, right, left, left]\n",
        "    y_coordinates = [top, top, bottom, bottom, top]\n",
        "\n",
        "    # Добавление прямоугольника как полигона на график\n",
        "    fig.add_trace(go.Scatter(\n",
        "        x=x_coordinates,\n",
        "        y=y_coordinates,\n",
        "        mode='lines',\n",
        "        line=dict(color='red', width=1),\n",
        "        fill='toself',  # Закрашиваем прямоугольник\n",
        "        fillcolor='rgba(255, 0, 0, 0.3)'  # Цвет и прозрачность заливки\n",
        "    ))\n",
        "\n",
        "    for name, known_encodings_list in VECTORS.items():\n",
        "        transact = 0\n",
        "        matches_count = 0\n",
        "        for known_encoding in known_encodings_list:\n",
        "            match = face_recognition.compare_faces([known_encoding], face_encodings[i])[0]\n",
        "            if match:\n",
        "                matches_count += 1\n",
        "\n",
        "        if (transact == len(known_encodings_list)) and (matches_count >= len(known_encodings_list)//2) :\n",
        "            # Отображение имени человека\n",
        "            # plt.text(left, bottom, str(i+1), fontsize=15, bbox=dict(facecolor='red', alpha=0.3))\n",
        "            # Добавление аннотации\n",
        "            fig.add_annotation(\n",
        "                x=(left + right) / 2,\n",
        "                y=top - 10,\n",
        "                text=f\"Face {i+1}\",\n",
        "                showarrow=False,\n",
        "                font=dict(color='black', size=14),\n",
        "                bgcolor='rgba(255, 255, 255, 0.3)',  # Цвет и прозрачность фона аннотации\n",
        "                bordercolor='black',  # Цвет границы аннотации\n",
        "                borderwidth=1,  # Ширина границы аннотации\n",
        "                borderpad=4,  # Расстояние от границы аннотации до текста\n",
        "            )\n",
        "\n",
        "            index_to_name[i+1] = (name, matches_count, len(known_encodings_list))\n",
        "            found_match = True\n",
        "            # break\n",
        "\n",
        "# Настройка макета\n",
        "fig.update_layout(\n",
        "    xaxis=dict(visible=False),\n",
        "    yaxis=dict(visible=False),\n",
        "    showlegend=False,\n",
        "    width=image.shape[1],\n",
        "    height=image.shape[0]\n",
        ")\n",
        "\n",
        "# Отображение графика\n",
        "fig.show()"
      ],
      "metadata": {
        "id": "j3EdwEJe4aS4"
      },
      "execution_count": null,
      "outputs": []
    },
    {
      "cell_type": "code",
      "source": [
        "import plotly.graph_objects as go\n",
        "\n",
        "# Задаем координаты прямоугольника\n",
        "left, right, top, bottom = 100, 200, 100, 200\n",
        "\n",
        "# Создаем фигуру\n",
        "fig = go.Figure()\n",
        "\n",
        "# Добавляем прямоугольник как трассировку\n",
        "fig.add_trace(go.Scatter(\n",
        "    x=[left, right, right, left, left],\n",
        "    y=[top, top, bottom, bottom, top],\n",
        "    mode='lines',\n",
        "    line=dict(color='red', width=1),\n",
        "    fill='toself',  # Закрашиваем прямоугольник\n",
        "    fillcolor='rgba(255, 0, 0, 0.3)'  # Устанавливаем цвет и прозрачность заливки\n",
        "))\n",
        "\n",
        "# Добавляем аннотацию\n",
        "fig.add_annotation(\n",
        "    x=(left + right) / 2,\n",
        "    y=top + 30,\n",
        "    text=\"Пример аннотации\",\n",
        "    showarrow=False,\n",
        "    font=dict(color='black', size=14),\n",
        "    bgcolor='rgba(255, 255, 255, 0.7)',  # Цвет и прозрачность фона аннотации\n",
        "    bordercolor='black',  # Цвет границы аннотации\n",
        "    borderwidth=1,  # Ширина границы аннотации\n",
        "    borderpad=4,  # Расстояние от границы аннотации до текста\n",
        "    ax=0,  # Сдвиг по оси X относительно точки аннотации\n",
        "    ay=-40  # Сдвиг по оси Y относительно точки аннотации\n",
        ")\n",
        "\n",
        "# Настройки макета\n",
        "fig.update_layout(\n",
        "    xaxis=dict(visible=False),\n",
        "    yaxis=dict(visible=False),\n",
        "    showlegend=False,\n",
        "    width=800,\n",
        "    height=600\n",
        ")\n",
        "\n",
        "# Отображаем график\n",
        "fig.show()"
      ],
      "metadata": {
        "id": "KDZSgl9M4aDo"
      },
      "execution_count": null,
      "outputs": []
    }
  ],
  "metadata": {
    "accelerator": "GPU",
    "colab": {
      "gpuType": "T4",
      "provenance": [],
      "authorship_tag": "ABX9TyMJs/wokzJfGw2HIUqsNM5L",
      "include_colab_link": true
    },
    "kernelspec": {
      "display_name": "Python 3",
      "name": "python3"
    },
    "language_info": {
      "name": "python"
    }
  },
  "nbformat": 4,
  "nbformat_minor": 0
}